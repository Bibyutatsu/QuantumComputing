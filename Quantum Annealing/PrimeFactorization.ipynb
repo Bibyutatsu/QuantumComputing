{
 "metadata": {
  "language_info": {
   "codemirror_mode": {
    "name": "ipython",
    "version": 3
   },
   "file_extension": ".py",
   "mimetype": "text/x-python",
   "name": "python",
   "nbconvert_exporter": "python",
   "pygments_lexer": "ipython3",
   "version": "3.9.13"
  },
  "orig_nbformat": 4,
  "kernelspec": {
   "name": "python3",
   "display_name": "Python 3.9.13 64-bit"
  },
  "interpreter": {
   "hash": "4cd7ab41f5fca4b9b44701077e38c5ffd31fe66a6cab21e0214b68d958d0e462"
  }
 },
 "nbformat": 4,
 "nbformat_minor": 2,
 "cells": [
  {
   "source": [
    "## Prime Factorization\n",
    "\n",
    "It is a very big problem to find the prime factors of a very big number and our modern security is based on this fact that it will take a very very large time to calculate the factors. It is proven that using Shor's algorithm we can do it very fast but I am trying to implement it using Quantum Annealing."
   ],
   "cell_type": "markdown",
   "metadata": {}
  },
  {
   "cell_type": "code",
   "execution_count": 1,
   "metadata": {},
   "outputs": [],
   "source": [
    "from dimod import ConstrainedQuadraticModel, Integer\n",
    "from dwave.system import LeapHybridCQMSampler"
   ]
  },
  {
   "cell_type": "code",
   "execution_count": 2,
   "metadata": {},
   "outputs": [],
   "source": [
    "N = 2501  # The number we want to find prime factors of"
   ]
  },
  {
   "cell_type": "code",
   "execution_count": 3,
   "metadata": {},
   "outputs": [],
   "source": [
    "cqm = ConstrainedQuadraticModel()\n",
    "\n",
    "factor_1 = Integer('Factor 1', lower_bound=1, upper_bound=int(N**0.5))\n",
    "factor_2 = Integer('Factor 2', lower_bound=int(N**0.5), upper_bound=N)\n",
    "\n",
    "cqm.add_constraint(factor_1*factor_2==N, \"Multiplication constraint\")\n",
    "cqm.set_objective((factor_1 - factor_2)**2)"
   ]
  },
  {
   "cell_type": "code",
   "execution_count": 6,
   "metadata": {},
   "outputs": [],
   "source": [
    "sampler = LeapHybridCQMSampler()\n",
    "res = sampler.sample_cqm(cqm, time_limit=20, label='Prime Factorization')\n",
    "feasible_sampleset = res.filter(lambda d: d.is_feasible)"
   ]
  },
  {
   "cell_type": "code",
   "execution_count": 7,
   "metadata": {},
   "outputs": [
    {
     "output_type": "execute_result",
     "data": {
      "text/plain": [
       "{'Factor 1': 41.0, 'Factor 2': 61.0}"
      ]
     },
     "metadata": {},
     "execution_count": 7
    }
   ],
   "source": [
    "feasible_sampleset.first.sample"
   ]
  },
  {
   "cell_type": "code",
   "execution_count": null,
   "metadata": {},
   "outputs": [],
   "source": []
  }
 ]
}